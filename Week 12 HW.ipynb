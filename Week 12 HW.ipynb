{
 "cells": [
  {
   "cell_type": "code",
   "execution_count": 8,
   "metadata": {},
   "outputs": [
    {
     "name": "stdout",
     "output_type": "stream",
     "text": [
      "Is it Cold? Answer with yes or no. no\n",
      "Is it Windy? Answer with yes or no. no\n",
      "I don't have to bring a jacket.\n"
     ]
    }
   ],
   "source": [
    "Cold = input(\"Is it Cold? Answer with yes or no. \")\n",
    "Windy = input(\"Is it Windy? Answer with yes or no. \")\n",
    "if (Cold == 'no') and (Windy == 'no'):\n",
    "    print(\"I don't have to bring a jacket.\")\n",
    "else:\n",
    "    print(\"I have to bring a jacket. \")"
   ]
  },
  {
   "cell_type": "code",
   "execution_count": 9,
   "metadata": {},
   "outputs": [],
   "source": [
    "def Jacket(Cold, Windy):\n",
    "    if (Cold == 'no') and (Windy == 'no'):\n",
    "        print(\"I don't have to bring a jacket.\")\n",
    "    else:\n",
    "        print(\"I have to bring a jacket. \")"
   ]
  },
  {
   "cell_type": "code",
   "execution_count": 7,
   "metadata": {},
   "outputs": [
    {
     "name": "stdout",
     "output_type": "stream",
     "text": [
      "Is it cold? no\n",
      "Is it windy? no\n",
      "I don't have to bring a jacket.\n",
      "do you want to quit? Press q to quit 1\n",
      "Is it cold? yes\n",
      "Is it windy? yes\n",
      "I have to bring a jacket. \n",
      "do you want to quit? Press q to quit r\n",
      "Is it cold? no\n",
      "Is it windy? yes\n",
      "I have to bring a jacket. \n",
      "do you want to quit? Press q to quit yes\n",
      "Is it cold? yes\n",
      "Is it windy? no\n",
      "I have to bring a jacket. \n",
      "do you want to quit? Press q to quit q\n"
     ]
    }
   ],
   "source": [
    "x = True\n",
    "while x != False:\n",
    "    Cold = input(\"Is it cold? \")\n",
    "    Windy = input(\"Is it windy? \")\n",
    "    Jacket(Cold, Windy)\n",
    "    quit = input(\"do you want to quit? Press q to quit \")\n",
    "    if quit == 'q':\n",
    "        x = False"
   ]
  }
 ],
 "metadata": {
  "kernelspec": {
   "display_name": "Python 3",
   "language": "python",
   "name": "python3"
  },
  "language_info": {
   "codemirror_mode": {
    "name": "ipython",
    "version": 3
   },
   "file_extension": ".py",
   "mimetype": "text/x-python",
   "name": "python",
   "nbconvert_exporter": "python",
   "pygments_lexer": "ipython3",
   "version": "3.8.5"
  }
 },
 "nbformat": 4,
 "nbformat_minor": 4
}
