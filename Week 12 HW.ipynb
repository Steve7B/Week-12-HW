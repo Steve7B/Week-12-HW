{
 "cells": [
  {
   "cell_type": "code",
   "execution_count": 13,
   "metadata": {},
   "outputs": [],
   "source": [
    "def Jacket(): \n",
    "    Cold = input(\"Is it Cold? Answer with yes or no. \")\n",
    "    Windy = input(\"Is it Windy? Answer with yes or no. \")\n",
    "    if Cold and Windy == \"yes\":\n",
    "        print('bring my Jacket!')\n",
    "    else:\n",
    "        print(\"I don't have to bring my Jacket.\")"
   ]
  },
  {
   "cell_type": "code",
   "execution_count": 14,
   "metadata": {},
   "outputs": [],
   "source": [
    "def Umbrella():\n",
    "    Raining = input(\"Is it Raining? Answer with yes or no. \")\n",
    "    Windy = input(\"Is it Windy? Answer with yes or no. \")\n",
    "    if Raining and Windy == \"yes\":\n",
    "        print('Bring your umbrella.')\n",
    "    else:\n",
    "        print(\"I don't have to bring my umbrella.\")"
   ]
  },
  {
   "cell_type": "code",
   "execution_count": 15,
   "metadata": {},
   "outputs": [
    {
     "name": "stdout",
     "output_type": "stream",
     "text": [
      "Is it Cold? Answer with yes or no. no\n",
      "Is it Windy? Answer with yes or no. no\n",
      "I don't have to bring my Jacket.\n"
     ]
    }
   ],
   "source": [
    "Jacket()"
   ]
  },
  {
   "cell_type": "code",
   "execution_count": 16,
   "metadata": {},
   "outputs": [
    {
     "name": "stdout",
     "output_type": "stream",
     "text": [
      "Is it Raining? Answer with yes or no. no\n",
      "Is it Windy? Answer with yes or no. yes\n",
      "Bring your umbrella.\n"
     ]
    }
   ],
   "source": [
    "Umbrella()"
   ]
  },
  {
   "cell_type": "code",
   "execution_count": null,
   "metadata": {},
   "outputs": [],
   "source": []
  }
 ],
 "metadata": {
  "kernelspec": {
   "display_name": "Python 3",
   "language": "python",
   "name": "python3"
  },
  "language_info": {
   "codemirror_mode": {
    "name": "ipython",
    "version": 3
   },
   "file_extension": ".py",
   "mimetype": "text/x-python",
   "name": "python",
   "nbconvert_exporter": "python",
   "pygments_lexer": "ipython3",
   "version": "3.8.5"
  }
 },
 "nbformat": 4,
 "nbformat_minor": 4
}
